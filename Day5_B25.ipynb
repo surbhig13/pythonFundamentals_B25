{
 "cells": [
  {
   "cell_type": "code",
   "execution_count": null,
   "metadata": {},
   "outputs": [],
   "source": [
    "list datatype"
   ]
  },
  {
   "cell_type": "code",
   "execution_count": 14,
   "metadata": {},
   "outputs": [
    {
     "name": "stdout",
     "output_type": "stream",
     "text": [
      "['vaibhav', 'sameer', 'neha', 'sakshi', 'manali', 'suraksha', 'kiran', 'akshitha']\n"
     ]
    }
   ],
   "source": [
    "students=['vaibhav','sameer','neha','sakshi','manali','suraksha','kiran','akshitha']\n",
    "print(students)"
   ]
  },
  {
   "cell_type": "code",
   "execution_count": 20,
   "metadata": {},
   "outputs": [
    {
     "data": {
      "text/plain": [
       "list"
      ]
     },
     "execution_count": 20,
     "metadata": {},
     "output_type": "execute_result"
    }
   ],
   "source": [
    "type(students)"
   ]
  },
  {
   "cell_type": "code",
   "execution_count": null,
   "metadata": {},
   "outputs": [],
   "source": [
    "#to apreciate the students"
   ]
  },
  {
   "cell_type": "code",
   "execution_count": 22,
   "metadata": {},
   "outputs": [
    {
     "name": "stdout",
     "output_type": "stream",
     "text": [
      "keep up the good work, vaibhav\n"
     ]
    }
   ],
   "source": [
    "print(f\"keep up the good work, {students[0]}\")"
   ]
  },
  {
   "cell_type": "code",
   "execution_count": 23,
   "metadata": {},
   "outputs": [
    {
     "name": "stdout",
     "output_type": "stream",
     "text": [
      "keep up the good work, sameer\n"
     ]
    }
   ],
   "source": [
    "print(f\"keep up the good work, {students[1]}\")"
   ]
  },
  {
   "cell_type": "code",
   "execution_count": 24,
   "metadata": {},
   "outputs": [
    {
     "name": "stdout",
     "output_type": "stream",
     "text": [
      "keep up the good work, neha\n"
     ]
    }
   ],
   "source": [
    "print(f\"keep up the good work, {students[2]}\")"
   ]
  },
  {
   "cell_type": "code",
   "execution_count": null,
   "metadata": {},
   "outputs": [],
   "source": []
  },
  {
   "cell_type": "code",
   "execution_count": null,
   "metadata": {},
   "outputs": [],
   "source": [
    "introduction to for loops: ****"
   ]
  },
  {
   "cell_type": "code",
   "execution_count": null,
   "metadata": {},
   "outputs": [],
   "source": [
    "# central syntax of a for loop:\n",
    "# tempvar we will be creating in the loop itself.\n",
    "\n",
    "for tempvar in mainvar:\n",
    "    print(tempvar) # indentation"
   ]
  },
  {
   "cell_type": "code",
   "execution_count": 15,
   "metadata": {},
   "outputs": [
    {
     "name": "stdout",
     "output_type": "stream",
     "text": [
      "vaibhav\n",
      "sameer\n",
      "neha\n",
      "sakshi\n",
      "manali\n",
      "suraksha\n",
      "kiran\n",
      "akshitha\n"
     ]
    }
   ],
   "source": [
    "for x in students:\n",
    "    print(x)"
   ]
  },
  {
   "cell_type": "code",
   "execution_count": null,
   "metadata": {},
   "outputs": [],
   "source": []
  },
  {
   "cell_type": "code",
   "execution_count": 16,
   "metadata": {},
   "outputs": [
    {
     "name": "stdout",
     "output_type": "stream",
     "text": [
      "keep up the good work,vaibhav\n",
      "keep up the good work,sameer\n",
      "keep up the good work,neha\n",
      "keep up the good work,sakshi\n",
      "keep up the good work,manali\n",
      "keep up the good work,suraksha\n",
      "keep up the good work,kiran\n",
      "keep up the good work,akshitha\n"
     ]
    }
   ],
   "source": [
    "for x in students:\n",
    "    print(f\"keep up the good work,{x}\")"
   ]
  },
  {
   "cell_type": "code",
   "execution_count": 17,
   "metadata": {},
   "outputs": [
    {
     "name": "stdout",
     "output_type": "stream",
     "text": [
      "vaibhav\n",
      "sameer\n",
      "neha\n",
      "sakshi\n",
      "manali\n",
      "suraksha\n",
      "kiran\n",
      "akshitha\n"
     ]
    }
   ],
   "source": [
    "for batman in students:\n",
    "    print(batman)"
   ]
  },
  {
   "cell_type": "code",
   "execution_count": null,
   "metadata": {},
   "outputs": [],
   "source": [
    "#further enhancement\n"
   ]
  },
  {
   "cell_type": "code",
   "execution_count": 18,
   "metadata": {},
   "outputs": [
    {
     "name": "stdout",
     "output_type": "stream",
     "text": [
      "keep up the good work,vaibhav\n",
      " i will be looking forward to receive your file of today, vaibhav\n",
      "keep up the good work,sameer\n",
      " i will be looking forward to receive your file of today, sameer\n",
      "keep up the good work,neha\n",
      " i will be looking forward to receive your file of today, neha\n",
      "keep up the good work,sakshi\n",
      " i will be looking forward to receive your file of today, sakshi\n",
      "keep up the good work,manali\n",
      " i will be looking forward to receive your file of today, manali\n",
      "keep up the good work,suraksha\n",
      " i will be looking forward to receive your file of today, suraksha\n",
      "keep up the good work,kiran\n",
      " i will be looking forward to receive your file of today, kiran\n",
      "keep up the good work,akshitha\n",
      " i will be looking forward to receive your file of today, akshitha\n"
     ]
    }
   ],
   "source": [
    "for x in students:\n",
    "    print(f\"keep up the good work,{x}\")\n",
    "    print(f\" i will be looking forward to receive your file of today, {x}\")"
   ]
  },
  {
   "cell_type": "code",
   "execution_count": 9,
   "metadata": {},
   "outputs": [
    {
     "name": "stdout",
     "output_type": "stream",
     "text": [
      "keep up the good work,nida\n",
      " i will be looking forward to receive your file of today, nida. \n",
      "\n",
      "keep up the good work,karthik\n",
      " i will be looking forward to receive your file of today, karthik. \n",
      "\n",
      "keep up the good work,sakshi\n",
      " i will be looking forward to receive your file of today, sakshi. \n",
      "\n",
      "keep up the good work,vinod\n",
      " i will be looking forward to receive your file of today, vinod. \n",
      "\n",
      "keep up the good work,anand\n",
      " i will be looking forward to receive your file of today, anand. \n",
      "\n",
      "keep up the good work,vishal\n",
      " i will be looking forward to receive your file of today, vishal. \n",
      "\n",
      "keep up the good work,suraksha\n",
      " i will be looking forward to receive your file of today, suraksha. \n",
      "\n"
     ]
    }
   ],
   "source": [
    "for x in students:\n",
    "    print(f\"keep up the good work,{x}\")\n",
    "    print(f\" i will be looking forward to receive your file of today, {x}. \\n\")"
   ]
  },
  {
   "cell_type": "code",
   "execution_count": 10,
   "metadata": {},
   "outputs": [
    {
     "name": "stdout",
     "output_type": "stream",
     "text": [
      "keep up the good work,nida\n",
      " i will be looking forward to receive your file of today, nida. \n",
      "\n",
      "keep up the good work,karthik\n",
      " i will be looking forward to receive your file of today, karthik. \n",
      "\n",
      "keep up the good work,sakshi\n",
      " i will be looking forward to receive your file of today, sakshi. \n",
      "\n",
      "keep up the good work,vinod\n",
      " i will be looking forward to receive your file of today, vinod. \n",
      "\n",
      "keep up the good work,anand\n",
      " i will be looking forward to receive your file of today, anand. \n",
      "\n",
      "keep up the good work,vishal\n",
      " i will be looking forward to receive your file of today, vishal. \n",
      "\n",
      "keep up the good work,suraksha\n",
      " i will be looking forward to receive your file of today, suraksha. \n",
      "\n",
      "Thank you all for showing interest in learning python\n"
     ]
    }
   ],
   "source": [
    "for x in students:\n",
    "    print(f\"keep up the good work,{x}\")  # indentation\n",
    "    print(f\" i will be looking forward to receive your file of today, {x}. \\n\")\n",
    "print('Thank you all for showing interest in learning python')    "
   ]
  },
  {
   "cell_type": "code",
   "execution_count": 19,
   "metadata": {},
   "outputs": [
    {
     "name": "stdout",
     "output_type": "stream",
     "text": [
      "['vaibhav', 'sameer', 'neha', 'sakshi', 'manali', 'suraksha', 'kiran', 'akshitha']\n"
     ]
    }
   ],
   "source": [
    "print(students)  # iteration over the elements"
   ]
  },
  {
   "cell_type": "code",
   "execution_count": null,
   "metadata": {},
   "outputs": [],
   "source": []
  },
  {
   "cell_type": "code",
   "execution_count": null,
   "metadata": {},
   "outputs": [],
   "source": []
  },
  {
   "cell_type": "code",
   "execution_count": null,
   "metadata": {},
   "outputs": [],
   "source": []
  }
 ],
 "metadata": {
  "kernelspec": {
   "display_name": "Python 3",
   "language": "python",
   "name": "python3"
  },
  "language_info": {
   "codemirror_mode": {
    "name": "ipython",
    "version": 3
   },
   "file_extension": ".py",
   "mimetype": "text/x-python",
   "name": "python",
   "nbconvert_exporter": "python",
   "pygments_lexer": "ipython3",
   "version": "3.7.6"
  }
 },
 "nbformat": 4,
 "nbformat_minor": 4
}
